{
 "cells": [
  {
   "cell_type": "code",
   "execution_count": 23,
   "metadata": {},
   "outputs": [],
   "source": [
    "import os\n",
    "import json\n",
    "import earthpy as et\n",
    "import matplotlib.pyplot as plt\n",
    "import numpy as np\n",
    "import pandas as pd\n",
    "import geopandas as gpd\n",
    "from geopandas import GeoDataFrame\n",
    "from shapely.geometry import Point\n",
    "import IPython.display as disp\n",
    "%matplotlib inline\n",
    "\n",
    "# change the global options that Geopandas inherits from\n",
    "pd.set_option('display.max_columns',None)"
   ]
  },
  {
   "cell_type": "code",
   "execution_count": 2,
   "metadata": {},
   "outputs": [
    {
     "name": "stdout",
     "output_type": "stream",
     "text": [
      "Current working directory is set to:  /Users/leahmanak/earth-analytics/landslide-detect\n"
     ]
    }
   ],
   "source": [
    "# Change directory to landslide-detect data path\n",
    "data_path = os.path.join(et.io.HOME, \"earth-analytics\", \"landslide-detect\")\n",
    "if os.path.exists(data_path):\n",
    "    os.chdir(data_path)\n",
    "else:\n",
    "    os.makedirs(data_path)\n",
    "    print('The new directory is created!')\n",
    "    os.chdir(data_path)\n",
    "\n",
    "print('Current working directory is set to: ', os.getcwd())"
   ]
  },
  {
   "cell_type": "code",
   "execution_count": 55,
   "metadata": {
    "scrolled": false
   },
   "outputs": [],
   "source": [
    "def create_dataframe(data_file):\n",
    "    \"\"\"\n",
    "    Reads a csv file into a GeoPandas DataFrame. Sets the index to the 'slide.id'\n",
    "    and sorts the geoDataFrame by the new index. Converts the date+time column to\n",
    "    a DateTime object and drops the time. Converts the reported geocoordinates to\n",
    "    a geoPandas geometry point.\n",
    "\n",
    "    Parameters\n",
    "    ----------\n",
    "    data_file : str\n",
    "\n",
    "    Returns\n",
    "    -------\n",
    "    dataframe\n",
    "        sorted by index\n",
    "    \"\"\"\n",
    "\n",
    "    gdf = gpd.read_file(data_file, index_col='slide.id').sort_values(by='slide.id')\n",
    "    gdf = gdf.set_index('slide.id')\n",
    "    # Convert to DatTime object, drop time\n",
    "#     gdf['slide.date'] = pd.to_datetime(gdf['slide.date'])\n",
    "#     gdf['slide.date'] = gdf['slide.date'].dt.date\n",
    "    # Convert reported geocoordinates to geometery\n",
    "    gdf[['lon', 'lat']] = gdf[['lon', 'lat']].astype(float)\n",
    "    geometry = [Point(xy) for xy in zip(gdf.lon, gdf.lat)]\n",
    "    gdf = gdf.drop(['lon', 'lat'], axis=1)\n",
    "    gdf = GeoDataFrame(gdf, crs=\"EPSG:4326\", geometry=geometry)\n",
    "\n",
    "    return gdf"
   ]
  },
  {
   "cell_type": "code",
   "execution_count": 5,
   "metadata": {},
   "outputs": [],
   "source": [
    "def image_search(gdf):\n",
    "    \"\"\"\n",
    "    Iterates through a geoDataFrame and searches Google Earth Engine\n",
    "    based on certain parameters within the geoDataFrame. Buffers central\n",
    "    geometery search point by 1000 meters, event date by 180 days reciprocal. \n",
    "\n",
    "    \n",
    "    Parameters\n",
    "    ----------\n",
    "    data_file : geodataframe\n",
    "\n",
    "    Returns\n",
    "    -------\n",
    "    dataframe\n",
    "        appended with imagery timestamplist\n",
    "    \n",
    "    \"\"\"\n",
    "\n",
    "    # Set empty list\n",
    "    results = []\n",
    "    \n",
    "    BASE_DATE = ee.Date(gdf['slide.date'])\n",
    "    \n",
    "    # Data search in Google Earth Engine\n",
    "    im_coll = (ee.ImageCollection('COPERNICUS/S1_GRD_FLOAT')\n",
    "               .filterBounds(gdf['geometry'])\n",
    "               .filter(ee.Geometry.Point.buffer({'distance': 1000}))\n",
    "               .filterDate(BASE_DATE, \n",
    "                           BASE_DATE.advance(-180, 'days'), \n",
    "                           BASE_DATE.advance(180, 'days'))\n",
    "#                .filter(ee.Filter.eq('orbitProperties_pass', 'DESCENDING'))\n",
    "               .filter(ee.Filter.listContains('transmitterReceiverPolarisation', 'VV'))\n",
    "               .filter(ee.Filter.listContains('transmitterReceiverPolarisation', 'VH'))\n",
    "               .map(lambda img: img.set('date', ee.Date(img.date()).format('YYYYMMdd')))\n",
    "               .sort('date'))\n",
    "    timestamplist = (im_coll.aggregate_array('date')\n",
    "                            .map(lambda d: ee.String('T').cat(ee.String(d)))\n",
    "                            .getInfo())\n",
    "    \n",
    "    # Add new column to geopandas DataFrame for avaiable data\n",
    "    for value in timestamplist:\n",
    "        if value == True:\n",
    "            result.append(timestamplist)\n",
    "        else:\n",
    "            result.append('No imagery available')\n",
    "\n",
    "    return geodataframe"
   ]
  },
  {
   "cell_type": "code",
   "execution_count": 4,
   "metadata": {},
   "outputs": [],
   "source": [
    "# for id, location, point in zip(landslide_df.index,\n",
    "#                                landslide_df['location'],\n",
    "#                                landslide_df['point'],\n",
    "#                                ):\n",
    "#     print(id, location, point)"
   ]
  },
  {
   "cell_type": "code",
   "execution_count": 53,
   "metadata": {},
   "outputs": [
    {
     "name": "stdout",
     "output_type": "stream",
     "text": [
      "slide.id\n",
      "9734    POINT (-121.43238 35.86563)\n",
      "9806    POINT (-108.18528 43.51364)\n",
      "Name: geometry, dtype: geometry\n",
      "slide.id\n",
      "9734    POINT (-121.43238 35.86563)\n",
      "9806    POINT (-108.18528 43.51364)\n",
      "Name: geometry, dtype: geometry\n"
     ]
    }
   ],
   "source": [
    "for row in landslide_gdf.iterrows():\n",
    "    print(landslide_gdf['geometry'])"
   ]
  },
  {
   "cell_type": "code",
   "execution_count": 56,

   "metadata": {},
   "outputs": [
    {
     "data": {
      "text/html": [
       "<div>\n",
       "<style scoped>\n",
       "    .dataframe tbody tr th:only-of-type {\n",
       "        vertical-align: middle;\n",
       "    }\n",
       "\n",
       "    .dataframe tbody tr th {\n",
       "        vertical-align: top;\n",
       "    }\n",
       "\n",
       "    .dataframe thead th {\n",
       "        text-align: right;\n",
       "    }\n",
       "</style>\n",
       "<table border=\"1\" class=\"dataframe\">\n",
       "  <thead>\n",
       "    <tr style=\"text-align: right;\">\n",
       "      <th></th>\n",
       "      <th>slide.date</th>\n",
       "      <th>location</th>\n",
       "      <th>type</th>\n",
       "      <th>trigger</th>\n",
       "      <th>size</th>\n",
       "      <th>location_accuracy</th>\n",
       "      <th>event_title</th>\n",
       "      <th>admin_division_name</th>\n",
       "      <th>ge.lat</th>\n",
       "      <th>ge.lon</th>\n",
       "      <th>is.exact</th>\n",
       "      <th>slide.index</th>\n",
       "      <th>geometry</th>\n",

       "    </tr>\n",
       "    <tr>\n",
       "      <th>slide.id</th>\n",
       "      <th></th>\n",
       "      <th></th>\n",
       "      <th></th>\n",
       "      <th></th>\n",
       "      <th></th>\n",
       "      <th></th>\n",
       "      <th></th>\n",
       "      <th></th>\n",
       "      <th></th>\n",
       "      <th></th>\n",
       "      <th></th>\n",
       "      <th></th>\n",
       "      <th></th>\n",

       "    </tr>\n",
       "  </thead>\n",
       "  <tbody>\n",
       "    <tr>\n",
       "      <th>9734</th>\n",
       "      <td>2017-05-20T13:34:00Z</td>\n",
       "      <td>Big Sur Landslide</td>\n",
       "      <td>landslide</td>\n",
       "      <td>rain</td>\n",
       "      <td>very_large</td>\n",
       "      <td>exact</td>\n",
       "      <td>Big Sur Landslide</td>\n",
       "      <td>NA</td>\n",
       "      <td>35.86562803</td>\n",
       "      <td>-121.4323838</td>\n",
       "      <td>TRUE</td>\n",
       "      <td>54</td>\n",
       "      <td>POINT (-121.43238 35.86563)</td>\n",

       "    </tr>\n",
       "    <tr>\n",
       "      <th>9806</th>\n",
       "      <td>2017-05-19T20:14:00Z</td>\n",
       "      <td>Rockslide on Highway 20, WY</td>\n",
       "      <td>rock_fall</td>\n",
       "      <td>rain</td>\n",
       "      <td>medium</td>\n",
       "      <td>1km</td>\n",
       "      <td>Rockslide on Highway 20, WY</td>\n",
       "      <td>NA</td>\n",
       "      <td>NA</td>\n",
       "      <td>NA</td>\n",
       "      <td>FALSE</td>\n",
       "      <td>55</td>\n",
       "      <td>POINT (-108.18528 43.51364)</td>\n",
       "    </tr>\n",
       "  </tbody>\n",
       "</table>\n",
       "</div>"
      ],
      "text/plain": [
       "                    slide.date                     location       type  \\\n",
       "slide.id                                                                 \n",
       "9734      2017-05-20T13:34:00Z            Big Sur Landslide  landslide   \n",
       "9806      2017-05-19T20:14:00Z  Rockslide on Highway 20, WY  rock_fall   \n",
       "\n",
       "         trigger        size location_accuracy                  event_title  \\\n",
       "slide.id                                                                      \n",
       "9734        rain  very_large             exact            Big Sur Landslide   \n",
       "9806        rain      medium               1km  Rockslide on Highway 20, WY   \n",
       "\n",
       "         admin_division_name       ge.lat        ge.lon is.exact slide.index  \\\n",
       "slide.id                                                                       \n",
       "9734                      NA  35.86562803  -121.4323838     TRUE          54   \n",
       "9806                      NA           NA            NA    FALSE          55   \n",
       "\n",
       "                             geometry  \n",
       "slide.id                               \n",
       "9734      POINT (-121.43238 35.86563)  \n",
       "9806      POINT (-108.18528 43.51364)  "
      ]
     },
     "execution_count": 56,
     "metadata": {},
     "output_type": "execute_result"
    }
   ],
   "source": [
    "landslide_gdf = create_dataframe('landslides.verified.copy.csv')\n",
    "landslide_gdf.head()"

   ]
  },
  {
   "cell_type": "code",
   "execution_count": null,
   "metadata": {},
   "outputs": [],
   "source": []
  },
  {
   "cell_type": "code",
   "execution_count": null,
   "metadata": {},
   "outputs": [],
   "source": []
  },
  {
   "cell_type": "code",
   "execution_count": null,
   "metadata": {},
   "outputs": [],
   "source": []
  }
 ],
 "metadata": {
  "interpreter": {
   "hash": "1423e7b4365b206593c4d9da781b428c62c61d48349bf4fefaba2ec8f85e2569"
  },
  "kernelspec": {
   "display_name": "Python 3 (ipykernel)",
   "language": "python",
   "name": "python3"
  },
  "language_info": {
   "codemirror_mode": {
    "name": "ipython",
    "version": 3
   },
   "file_extension": ".py",
   "mimetype": "text/x-python",
   "name": "python",
   "nbconvert_exporter": "python",
   "pygments_lexer": "ipython3",
   "version": "3.8.12"
  }
 },
 "nbformat": 4,
 "nbformat_minor": 2
}
