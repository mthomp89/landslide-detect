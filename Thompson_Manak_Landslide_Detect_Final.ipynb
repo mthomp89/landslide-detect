{
 "cells": [
  {
   "cell_type": "markdown",
   "metadata": {
    "id": "l18M9_r5XmAQ"
   },
   "source": [
    "# <center>Integrating Synthetic Aperature Radar Imagery in Landslide Detection</center>\n",
    " <table><tr><td>By Leah Manak and Mitchell Thompson</td></tr></table>\n",
    "  <table><tr><td>Special Credit to Elsa Culler</td></tr></table>\n",
    "  <table><tr><td>June, 2022</td></tr></table>\n",
    "\n",
    "\n"
   ]
  },
  {
   "cell_type": "markdown",
   "metadata": {},
   "source": [
    "# In this Notebook:\n",
    " 1. Setup\n",
    " - 1.1 Initialize Google Earth Engine\n",
    " - 1.2 Import Datasets and Python Modules\n",
    " - 1.3 Classes and Functions\n",
    " - 1.4 Set Working Directory\n",
    " 2. Verified Landslides: Database Setup and Location Map\n",
    " - 2.1 Create Geopandas Dataframe\n",
    " - 2.2 Entire Landslides Catalog Folium Map\n",
    " 3. Establish AOI\n",
    " - 3.1 User Prompt for Specific Site Location \n",
    " 4. Sentinal-1 Radar Imagery\n",
    " - 4.1 Sattelite Image Collection and Preparation\n",
    " - 4.2 Convert and Clip Image Collection\n",
    " 5. Multitemporal Change Detection\n",
    " - 5.1 Create Initial Change Map\n",
    " - 5.2 Final Change Map\n",
    " 6. Summary\n",
    " 7. Outlook\n",
    " 8. References"
   ]
  },
  {
   "cell_type": "markdown",
   "metadata": {},
   "source": [
    "# 1. Setup"
   ]
  },
  {
   "cell_type": "markdown",
   "metadata": {
    "id": "U7i55vr_aKCB"
   },
   "source": [
    "### 1.1 Initialize Google Earth Engine\n",
    "\n",
    "Run the following cell to initialize the API. The output will contain instructions on how to grant this notebook access to Earth Engine using your account."
   ]
  },
  {
   "cell_type": "code",
   "execution_count": null,
   "metadata": {
    "colab": {
     "base_uri": "https://localhost:8080/"
    },
    "id": "XeFsiSp2aDL6",
    "outputId": "68002968-4b38-4a92-ca65-f31c13d77d59"
   },
   "outputs": [],
   "source": [
    "import ee\n",
    "# Trigger the authentication flow.\n",
    "ee.Authenticate()\n",
    "\n",
    "# Initialize the library.\n",
    "ee.Initialize()"
   ]
  },
  {
   "cell_type": "markdown",
   "metadata": {
    "id": "VOf_UnIcZKBJ"
   },
   "source": [
    "### 1.2 Datasets and Python modules\n",
    "One [dataset](https://developers.google.com/earth-engine/datasets/catalog/COPERNICUS_S1_GRD) that will be used in the tutorial is:\n",
    "\n",
    "- COPERNICUS/S1_GRD_FLOAT\n",
    "    - Sentinel-1 ground range detected images\n",
    "\n",
    "Another is a verified landslide locations dataset created by CU Boulder Earth Lab that will be defined below as \"landslide_df\". \n",
    "- This dataset includes various verified locations of landslides across North America with descriptions of severity and type. \n",
    "The following cell imports some python modules which we will be using as we go along and enables inline graphics.\n",
    "\n",
    "The following cell imports various Python modules necessary to complete this notebook"
   ]
  },
  {
   "cell_type": "code",
   "execution_count": null,
   "metadata": {
    "id": "YmusFZcZHEjE"
   },
   "outputs": [],
   "source": [
    "import os\n",
    "import json\n",
    "import earthpy as et\n",
    "import folium\n",
    "import matplotlib.pyplot as plt\n",
    "import numpy as np\n",
    "import pandas as pd\n",
    "import shapely.geometry as sgeo\n",
    "import IPython.display as disp\n",
    "import geemap.foliumap as geemap\n",
    "\n",
    "from shapely.geometry import Point\n",
    "from src.det import det\n",
    "from src.create_geodataframe import create_geodataframe\n",
    "from scipy.stats import chi2\n",
    "\n",
    "\n",
    "pd.set_option('display.max_columns', None)\n",
    "pd.set_option('display.max_rows', None, )\n",
    "\n",
    "# Enable inline graphics\n",
    "%matplotlib inline"
   ]
  },
  {
   "cell_type": "markdown",
   "metadata": {},
   "source": [
    "### 1.3 Classes and Functions\n"
   ]
  },
  {
   "cell_type": "code",
   "execution_count": null,
   "metadata": {},
   "outputs": [],
   "source": [
    "class Coord:\n",
    "    \"\"\"Access coordinates in either order\"\"\"\n",
    "\n",
    "    def __init__(self, lon, lat):\n",
    "        self.lon = lon\n",
    "        self.lat = lat\n",
    "        self.xy = [self.lon, self.lat]\n",
    "        self.yx = [self.lat, self.lon]\n",
    "        self.marker = folium.Marker(location=self.yx)\n",
    "\n",
    "\n",
    "class BBox:\n",
    "    \"\"\"Bounding box available in many formats\"\"\"\n",
    "\n",
    "    def __init__(self, minx, miny, maxx, maxy):\n",
    "        self.minx, self.miny = (minx, miny)\n",
    "        self.maxx, self.maxy = (maxx, maxy)\n",
    "        self.box = sgeo.box(minx=minx, miny=miny, maxx=maxx, maxy=maxy)\n",
    "        self.coords = list(self.box.exterior.coords)\n",
    "        self.ee = ee.Geometry.Polygon(self.coords)\n",
    "        self.geojson = self.box.__geo_interface__\n",
    "        self.folium = folium.GeoJson(self.geojson)\n",
    "        self.folium_bounds = [(y, x) for (x, y) in self.coords]"
   ]
  },
  {
   "cell_type": "code",
   "execution_count": null,
   "metadata": {},
   "outputs": [],
   "source": [
    "def get_dates(image_collection, event_date):\n",
    "    \"\"\" Get a list of dates and index of the date of interest\"\"\"\n",
    "    event_date = ee.Number(event_date.format('YYYYMMdd')).getInfo()\n",
    "    dates = (\n",
    "        image_collection.aggregate_array('date')\n",
    "        .map(lambda d: ee.Number(d))\n",
    "        .getInfo())\n",
    "    first_after_event = sum([d < event_date for d in dates])\n",
    "    return dates, first_after_event"
   ]
  },
  {
   "cell_type": "code",
   "execution_count": null,
   "metadata": {},
   "outputs": [],
   "source": [
    "def clip_img(img):\n",
    "    \"\"\"\n",
    "    Clips a list of images to our aoi geometry.\n",
    "\n",
    "    Returns\n",
    "    -------\n",
    "    list\n",
    "        clipped images to aoi\n",
    "\n",
    "    \"\"\"\n",
    "    return ee.Image(img).clip(aoi)"
   ]
  },
  {
   "cell_type": "code",
   "execution_count": null,
   "metadata": {},
   "outputs": [],
   "source": [
    "# First, in order to add Earth Engine layer to Folium map we need this function below\n",
    "def add_ee_layer(self, ee_image_object, vis_params, name):\n",
    "    \"\"\"\n",
    "    Adds Earth Engine layers to a folium map.\n",
    "\n",
    "    Returns\n",
    "    -------\n",
    "    Earth Engine Raster Layers to Folium Map\n",
    "    \"\"\"\n",
    "\n",
    "    map_id_dict = ee.Image(ee_image_object).getMapId(vis_params)\n",
    "    folium.raster_layers.TileLayer(\n",
    "        tiles=map_id_dict['tile_fetcher'].url_format,\n",
    "        attr='Map Data &copy; <a href=\"https://earthengine.google.com/\">Google Earth Engine</a>',\n",
    "        name=name,\n",
    "        overlay=True,\n",
    "        control=True).add_to(self)"
   ]
  },
  {
   "cell_type": "code",
   "execution_count": null,
   "metadata": {},
   "outputs": [],
   "source": [
    "def selectvv(current):\n",
    "    \"\"\"\n",
    "    Selects the 'VV' bands from an image\n",
    "\n",
    "    Returns\n",
    "    -------\n",
    "    function\n",
    "        to select the images with 'VV' bands\n",
    "\n",
    "    \"\"\"\n",
    "    return ee.Image(current).select('VV')"
   ]
  },
  {
   "cell_type": "code",
   "execution_count": null,
   "metadata": {},
   "outputs": [],
   "source": [
    "def omnibus(im_list, m=4.4):\n",
    "    \"\"\"Calculates the omnibus test statistic, monovariate case.\"\"\"\n",
    "    def log(current):\n",
    "        return ee.Image(current).log()\n",
    "\n",
    "    im_list = ee.List(im_list)\n",
    "    k = im_list.length()\n",
    "    klogk = k.multiply(k.log())\n",
    "    klogk = ee.Image.constant(klogk)\n",
    "    sumlogs = ee.ImageCollection(im_list.map(log)).reduce(ee.Reducer.sum())\n",
    "    logsum = ee.ImageCollection(im_list).reduce(ee.Reducer.sum()).log()\n",
    "    return klogk.add(sumlogs).subtract(logsum.multiply(k)).multiply(-2*m)"
   ]
  },
  {
   "cell_type": "code",
   "execution_count": null,
   "metadata": {},
   "outputs": [],
   "source": [
    "def chi2cdf(chi2, df):\n",
    "    \"\"\"Calculates Chi square cumulative distribution function for\n",
    "       df degrees of freedom using the built-in incomplete gamma\n",
    "       function gammainc().\n",
    "    \"\"\"\n",
    "\n",
    "    return ee.Image(chi2.divide(2)).gammainc(ee.Number(df).divide(2))"
   ]
  },
  {
   "cell_type": "code",
   "execution_count": null,
   "metadata": {},
   "outputs": [],
   "source": [
    "def sample_vv_imgs(j):\n",
    "    \"\"\"Samples the test statistics Rj in the region aoi.\"\"\"\n",
    "    j = ee.Number(j)\n",
    "    # Get the factors in the expression for Rj.\n",
    "    sj = vv_list.get(j.subtract(1))\n",
    "    jfact = j.pow(j).divide(j.subtract(1).pow(j.subtract(1)))\n",
    "    sumj = ee.ImageCollection(vv_list.slice(0, j)).reduce(ee.Reducer.sum())\n",
    "    sumjm1 = ee.ImageCollection(vv_list.slice(\n",
    "        0, j.subtract(1))).reduce(ee.Reducer.sum())\n",
    "    # Put them together.\n",
    "    Rj = sumjm1.pow(j.subtract(1)).multiply(\n",
    "        sj).multiply(jfact).divide(sumj.pow(j)).pow(5)\n",
    "    # Sample Rj.\n",
    "    sample = (Rj.sample(region=aoi, scale=10, numPixels=1000, seed=123)\n",
    "              .aggregate_array('VV_sum'))\n",
    "    return sample"
   ]
  },
  {
   "cell_type": "code",
   "execution_count": null,
   "metadata": {
    "id": "4DDfm-FxtylT"
   },
   "outputs": [],
   "source": [
    "def log_det_sum(im_list, j):\n",
    "    \"\"\"Returns log of determinant of the sum of the first j images in im_list.\"\"\"\n",
    "    im_ist = ee.List(im_list)\n",
    "    sumj = ee.ImageCollection(im_list.slice(0, j)).reduce(ee.Reducer.sum())\n",
    "    return ee.Image(det(sumj)).log()\n",
    "\n",
    "\n",
    "def log_det(im_list, j):\n",
    "    \"\"\"Returns log of the determinant of the jth image in im_list.\"\"\"\n",
    "    im = ee.Image(ee.List(im_list).get(j.subtract(1)))\n",
    "    return ee.Image(det(im)).log()\n",
    "\n",
    "\n",
    "def pval(im_list, j, m=4.4):\n",
    "    \"\"\"Calculates -2logRj for im_list and returns P value and -2logRj.\"\"\"\n",
    "    im_list = ee.List(im_list)\n",
    "    j = ee.Number(j)\n",
    "    m2logRj = (log_det_sum(im_list, j.subtract(1))\n",
    "               .multiply(j.subtract(1))\n",
    "               .add(log_det(im_list, j))\n",
    "               .add(ee.Number(2).multiply(j).multiply(j.log()))\n",
    "               .subtract(ee.Number(2).multiply(j.subtract(1))\n",
    "               .multiply(j.subtract(1).log()))\n",
    "               .subtract(log_det_sum(im_list, j).multiply(j))\n",
    "               .multiply(-2).multiply(m))\n",
    "    pv = ee.Image.constant(1).subtract(chi2cdf(m2logRj, 2))\n",
    "    return (pv, m2logRj)\n",
    "\n",
    "\n",
    "def p_values(im_list):\n",
    "    \"\"\"Pre-calculates the P-value array for a list of images.\"\"\"\n",
    "    im_list = ee.List(im_list)\n",
    "    k = im_list.length()\n",
    "\n",
    "    def ells_map(ell):\n",
    "        \"\"\"Arranges calculation of pval for combinations of k and j.\"\"\"\n",
    "        ell = ee.Number(ell)\n",
    "        # Slice the series from k-l+1 to k (image indices start from 0).\n",
    "        im_list_ell = im_list.slice(k.subtract(ell), k)\n",
    "\n",
    "        def js_map(j):\n",
    "            \"\"\"Applies pval calculation for combinations of k and j.\"\"\"\n",
    "            j = ee.Number(j)\n",
    "            pv1, m2logRj1 = pval(im_list_ell, j)\n",
    "            return ee.Feature(None, {'pv': pv1, 'm2logRj': m2logRj1})\n",
    "\n",
    "        # Map over j=2,3,...,l.\n",
    "        js = ee.List.sequence(2, ell)\n",
    "        pv_m2logRj = ee.FeatureCollection(js.map(js_map))\n",
    "\n",
    "        # Calculate m2logQl from collection of m2logRj images.\n",
    "        m2logQl = ee.ImageCollection(\n",
    "            pv_m2logRj.aggregate_array('m2logRj')).sum()\n",
    "        pvQl = ee.Image.constant(1).subtract(\n",
    "            chi2cdf(m2logQl, ell.subtract(1).multiply(2)))\n",
    "        pvs = ee.List(pv_m2logRj.aggregate_array('pv')).add(pvQl)\n",
    "        return pvs\n",
    "\n",
    "    # Map over l = k to 2.\n",
    "    ells = ee.List.sequence(k, 2, -1)\n",
    "    pv_arr = ells.map(ells_map)\n",
    "\n",
    "    # Return the P value array ell = k,...,2, j = 2,...,l.\n",
    "    return pv_arr"
   ]
  },
  {
   "cell_type": "code",
   "execution_count": null,
   "metadata": {
    "id": "D1KBQwPWLYEI"
   },
   "outputs": [],
   "source": [
    "def filter_j(current, prev):\n",
    "    \"\"\"Calculates change maps; iterates over j indices of pv_arr.\"\"\"\n",
    "    pv = ee.Image(current)\n",
    "    prev = ee.Dictionary(prev)\n",
    "    pvQ = ee.Image(prev.get('pvQ'))\n",
    "    i = ee.Number(prev.get('i'))\n",
    "    cmap = ee.Image(prev.get('cmap'))\n",
    "    smap = ee.Image(prev.get('smap'))\n",
    "    fmap = ee.Image(prev.get('fmap'))\n",
    "    bmap = ee.Image(prev.get('bmap'))\n",
    "    alpha = ee.Image(prev.get('alpha'))\n",
    "    j = ee.Number(prev.get('j'))\n",
    "    cmapj = cmap.multiply(0).add(i.add(j).subtract(1))\n",
    "    # Check      Rj?            Ql?                  Row i?\n",
    "    tst = pv.lt(alpha).And(pvQ.lt(alpha)).And(cmap.eq(i.subtract(1)))\n",
    "    # Then update cmap...\n",
    "    cmap = cmap.where(tst, cmapj)\n",
    "    # ...and fmap...\n",
    "    fmap = fmap.where(tst, fmap.add(1))\n",
    "    # ...and smap only if in first row.\n",
    "    smap = ee.Algorithms.If(i.eq(1), smap.where(tst, cmapj), smap)\n",
    "    # Create bmap band and add it to bmap image.\n",
    "    idx = i.add(j).subtract(2)\n",
    "    tmp = bmap.select(idx)\n",
    "    bname = bmap.bandNames().get(idx)\n",
    "    tmp = tmp.where(tst, 1)\n",
    "    tmp = tmp.rename([bname])\n",
    "    bmap = bmap.addBands(tmp, [bname], True)\n",
    "    return ee.Dictionary({'i': i, 'j': j.add(1), 'alpha': alpha, 'pvQ': pvQ,\n",
    "                          'cmap': cmap, 'smap': smap, 'fmap': fmap, 'bmap': bmap})\n",
    "\n",
    "\n",
    "def filter_i(current, prev):\n",
    "    \"\"\"Arranges calculation of change maps; iterates over row-indices of pv_arr.\"\"\"\n",
    "    current = ee.List(current)\n",
    "    pvs = current.slice(0, -1)\n",
    "    pvQ = ee.Image(current.get(-1))\n",
    "    prev = ee.Dictionary(prev)\n",
    "    i = ee.Number(prev.get('i'))\n",
    "    alpha = ee.Image(prev.get('alpha'))\n",
    "    median = prev.get('median')\n",
    "    # Filter Ql p value if desired.\n",
    "    pvQ = ee.Algorithms.If(median, pvQ.focalMedian(2.5), pvQ)\n",
    "    cmap = prev.get('cmap')\n",
    "    smap = prev.get('smap')\n",
    "    fmap = prev.get('fmap')\n",
    "    bmap = prev.get('bmap')\n",
    "    first = ee.Dictionary({'i': i, 'j': 1, 'alpha': alpha, 'pvQ': pvQ,\n",
    "                           'cmap': cmap, 'smap': smap, 'fmap': fmap, 'bmap': bmap})\n",
    "    result = ee.Dictionary(ee.List(pvs).iterate(filter_j, first))\n",
    "    return ee.Dictionary({'i': i.add(1), 'alpha': alpha, 'median': median,\n",
    "                          'cmap': result.get('cmap'), 'smap': result.get('smap'),\n",
    "                          'fmap': result.get('fmap'), 'bmap': result.get('bmap')})"
   ]
  },
  {
   "cell_type": "code",
   "execution_count": null,
   "metadata": {
    "id": "aG9UoPHH29tk"
   },
   "outputs": [],
   "source": [
    "def dmap_iter(current, prev):\n",
    "    \"\"\"Reclassifies values in directional change maps.\"\"\"\n",
    "    prev = ee.Dictionary(prev)\n",
    "    j = ee.Number(prev.get('j'))\n",
    "    image = ee.Image(current)\n",
    "    avimg = ee.Image(prev.get('avimg'))\n",
    "    diff = image.subtract(avimg)\n",
    "\n",
    "    # Get positive/negative definiteness.\n",
    "    posd = ee.Image(diff.select(0).gt(0).And(det(diff).gt(0)))\n",
    "    negd = ee.Image(diff.select(0).lt(0).And(det(diff).gt(0)))\n",
    "    bmap = ee.Image(prev.get('bmap'))\n",
    "    bmapj = bmap.select(j)\n",
    "    dmap = ee.Image.constant(ee.List.sequence(1, 3))\n",
    "    bmapj = bmapj.where(bmapj, dmap.select(2))\n",
    "    bmapj = bmapj.where(bmapj.And(posd), dmap.select(0))\n",
    "    bmapj = bmapj.where(bmapj.And(negd), dmap.select(1))\n",
    "    bmap = bmap.addBands(bmapj, overwrite=True)\n",
    "\n",
    "    # Update avimg with provisional means.\n",
    "    i = ee.Image(prev.get('i')).add(1)\n",
    "    avimg = avimg.add(image.subtract(avimg).divide(i))\n",
    "    # Reset avimg to current image and set i=1 if change occurred.\n",
    "    avimg = avimg.where(bmapj, image)\n",
    "    i = i.where(bmapj, 1)\n",
    "    return ee.Dictionary({'avimg': avimg, 'bmap': bmap, 'j': j.add(1), 'i': i})"
   ]
  },
  {
   "cell_type": "code",
   "execution_count": null,
   "metadata": {
    "id": "CF3-_d6M5JGf"
   },
   "outputs": [],
   "source": [
    "def change_maps(im_list, median=False, alpha=0.01):\n",
    "    \"\"\"Calculates thematic change maps.\"\"\"\n",
    "    k = im_list.length()\n",
    "    # Pre-calculate the P value array.\n",
    "    pv_arr = ee.List(p_values(im_list))\n",
    "    # Filter P values for change maps.\n",
    "    cmap = ee.Image(im_list.get(0)).select(0).multiply(0)\n",
    "    bmap = ee.Image.constant(ee.List.repeat(0, k.subtract(1))).add(cmap)\n",
    "    alpha = ee.Image.constant(alpha)\n",
    "    first = ee.Dictionary({'i': 1, 'alpha': alpha, 'median': median,\n",
    "                           'cmap': cmap, 'smap': cmap, 'fmap': cmap, 'bmap': bmap})\n",
    "    result = ee.Dictionary(pv_arr.iterate(filter_i, first))\n",
    "\n",
    "    # Post-process bmap for change direction.\n",
    "    bmap = ee.Image(result.get('bmap'))\n",
    "    smap = ee.Image(result.get('smap'))\n",
    "    fmap = ee.Image(result.get('fmap'))\n",
    "    avimg = ee.Image(im_list.get(0))\n",
    "    j = ee.Number(0)\n",
    "    i = ee.Image.constant(1)\n",
    "    first = ee.Dictionary({\n",
    "        'avimg': avimg, 'bmap': bmap, 'smap': smap, 'fmap': fmap,\n",
    "        'j': j, 'i': i})\n",
    "    dmap = ee.Dictionary(im_list.slice(\n",
    "        1).iterate(dmap_iter, first)).get('bmap')\n",
    "    return ee.Dictionary(result.set('bmap', dmap))"
   ]
  },
  {
   "cell_type": "code",
   "execution_count": null,
   "metadata": {},
   "outputs": [],
   "source": [
    "def plot_change_maps(im_list):\n",
    "    \"\"\"Compute and plot change maps\"\"\"\n",
    "\n",
    "    # Run the algorithm with median filter and at 1% significance.\n",
    "    result = ee.Dictionary(change_maps(im_list, median=True, alpha=0.01))\n",
    "\n",
    "    # Extract the change maps and export to assets.\n",
    "    cmap = ee.Image(result.get('cmap'))\n",
    "    smap = ee.Image(result.get('smap'))\n",
    "    fmap = ee.Image(result.get('fmap'))\n",
    "    bmap = ee.Image(result.get('bmap'))\n",
    "    cmaps = (\n",
    "        ee.Image\n",
    "        .cat(cmap, smap, fmap, bmap)\n",
    "        .rename(['cmap', 'smap', 'fmap']+timestamplist[1:]))\n",
    "    cmaps = cmaps.updateMask(cmaps.gt(0))\n",
    "    location = aoi.centroid().coordinates().getInfo()[::-1]\n",
    "\n",
    "    # create parameters for cmap\n",
    "    palette = ['black', 'cyan']\n",
    "    params = {'min': 0, 'max': 1, 'palette': palette}\n",
    "\n",
    "    # create map with layers\n",
    "\n",
    "    Map = geemap.Map(location=location, zoom_start=15)\n",
    "\n",
    "    # Different basemaps. you can select or deselect on image itself\n",
    "    Map.add_basemap('SATELLITE')\n",
    "    Map.add_basemap('USGS NAIP Imagery NDVI')\n",
    "    Map.add_basemap('USGS NAIP Imagery False Color')\n",
    "\n",
    "    # Our Cmaps layer\n",
    "    Map.addLayer(cmaps.select(slide_image), params, 'slide_image')\n",
    "\n",
    "    return Map"
   ]
  },
  {
   "cell_type": "markdown",
   "metadata": {},
   "source": [
    "### 1.4 Set working directory"
   ]
  },
  {
   "cell_type": "code",
   "execution_count": null,
   "metadata": {},
   "outputs": [],
   "source": [
    "# Change directory to landslide-detect data path\n",
    "data_path = os.path.join(et.io.HOME, \"earth-analytics\", \"landslide-detect\")\n",
    "if os.path.exists(data_path):\n",
    "    os.chdir(data_path)\n",
    "else:\n",
    "    os.makedirs(data_path)\n",
    "    print('The new directory is created!')\n",
    "    os.chdir(data_path)\n",
    "\n",
    "print('Current working directory is set to: ', os.getcwd())"
   ]
  },
  {
   "cell_type": "markdown",
   "metadata": {},
   "source": [
    "# 2. Verified Landslides: Database Setup and Location Map"
   ]
  },
  {
   "cell_type": "markdown",
   "metadata": {},
   "source": [
    "### 2.1 Create Geodataframe\n",
    "\n",
    "Earlier in the imports area, we imported a custom function to create a \n",
    "GeoPandas DataFrame. Here we call that function."
   ]
  },
  {
   "cell_type": "code",
   "execution_count": null,
   "metadata": {},
   "outputs": [],
   "source": [
    "# Open CSV and Create DataFrame with Pandas\n",
    "landslide_gdf = create_geodataframe('landslides.verified.csv')\n",
    "landslide_gdf.head(2)"
   ]
  },
  {
   "cell_type": "markdown",
   "metadata": {},
   "source": [
    "### 2.2 Folium Map of All Verified Landslide Locations"
   ]
  },
  {
   "cell_type": "code",
   "execution_count": null,
   "metadata": {
    "scrolled": false
   },
   "outputs": [],
   "source": [
    "# Display all verified landslides in folium. We will need to replace this to match function in cell above\n",
    "verified_locations = landslide_gdf[[\"slide.id\",\n",
    "                                    \"slide.date\",\n",
    "                                    \"lat\",\n",
    "                                    \"lon\",\n",
    "                                    \"type\"]]\n",
    "\n",
    "mp = folium.Map(\n",
    "    location=[verified_locations.lat.mean(), verified_locations.lon.mean()],\n",
    "    zoom_start=4,\n",
    "    control_scale=True,\n",
    "    tiles=\"Stamen Terrain\")\n",
    "\n",
    "for index, location_info in landslide_gdf.iterrows():\n",
    "    folium.Marker([location_info[\"lat\"], location_info[\"lon\"]],\n",
    "                  popup=(f\"Slide ID: {location_info['slide.id']}\\n\"\n",
    "                  f\"Size: {location_info['size']}\\n\"\n",
    "                         f\"Cause: {location_info['type']}\"),\n",
    "                  icon=folium.Icon(color='red', prefix='fa',\n",
    "                  icon='exclamation-triangle')).add_to(mp)\n",
    "\n",
    "display(mp)"
   ]
  },
  {
   "cell_type": "markdown",
   "metadata": {},
   "source": [
    "# 3 Establish AOI "
   ]
  },
  {
   "cell_type": "markdown",
   "metadata": {},
   "source": [
    "### 3.1 User Prompt! \n",
    "\n",
    "---\n",
    "\n",
    "<span style=\"color:red\">* **HINT** *</span> : Copy and past the \"slide ID\" from any landslide icon in the folium map above and paste it in the user prompt box below afer running the code.\n",
    "\n",
    "---"
   ]
  },
  {
   "cell_type": "code",
   "execution_count": null,
   "metadata": {},
   "outputs": [],
   "source": [
    "# Prompt user for AOI by GLC slide ID\n",
    "location = input('\\u001b[1m Enter desired NASA Global Land Slide identification number: ')\n",
    "\n",
    "# Grab location from gdf\n",
    "while True:\n",
    "    try:\n",
    "        # loc = landslide_gdf.loc[location]\n",
    "        loc = landslide_gdf[(landslide_gdf == location)]\n",
    "    except KeyError: \n",
    "        print('You have entered an invalid GLC Slide ID number, please try again.')\n",
    "    break\n",
    "\n",
    "# Print new dataframe specific to selected slide    \n",
    "new_df = landslide_gdf[(landslide_gdf['slide.id'] == location)]\n",
    "lon = new_df['lon'].values[0]\n",
    "lat = new_df['lat'].values[0]\n",
    "\n",
    "new_df"
   ]
  },
  {
   "cell_type": "code",
   "execution_count": null,
   "metadata": {},
   "outputs": [],
   "source": [
    "# Get the event location variable from coordinates\n",
    "event_loc = Coord(lon=lon, lat=lat)\n",
    "\n",
    "# Approximately 1km buffer\n",
    "buffer = Coord(lon=0.013, lat=0.009)\n",
    "\n",
    "# Create bounding box geometry\n",
    "bbox = BBox(\n",
    "    minx=event_loc.lon - buffer.lon, miny=event_loc.lat - buffer.lat,\n",
    "    maxx=event_loc.lon + buffer.lon, maxy=event_loc.lat + buffer.lat\n",
    ")"
   ]
  },
  {
   "cell_type": "code",
   "execution_count": null,
   "metadata": {},
   "outputs": [],
   "source": [
    "# Identify event date\n",
    "BASE_DATE = ee.Date(new_df['slide.date'].values[0][0:10])\n",
    "\n",
    "# Select 1 year surrounding the event\n",
    "start_date = BASE_DATE.advance(-180, 'days')\n",
    "end_date = BASE_DATE.advance(180, 'days')\n",
    "\n",
    "'Event date is {}, Sentinel-1 image data range is between {} and {}'.format(\n",
    "    BASE_DATE.format('YYYY-MM-dd').getInfo(),\n",
    "    start_date.format('YYYY-MM-dd').getInfo(),\n",
    "    end_date.format('YYYY-MM-dd').getInfo())"
   ]
  },
  {
   "cell_type": "code",
   "execution_count": null,
   "metadata": {},
   "outputs": [],
   "source": [
    "# Area of interest\n",
    "aoi = bbox.ee\n",
    "location = aoi.centroid().coordinates().getInfo()[::-1]\n",
    "\n",
    "# Make split view map half Satellite and half NAIP Imagery False Color\n",
    "split_view = geemap.Map(location=location, zoom_start=15)\n",
    "split_view.split_map(left_layer='SATELLITE',\n",
    "                     right_layer='USGS NAIP Imagery False Color')\n",
    "split_view"
   ]
  },
  {
   "cell_type": "markdown",
   "metadata": {},
   "source": [
    "![Sentinal-1](https://encrypted-tbn0.gstatic.com/images?q=tbn:ANd9GcSnEbm9fwTfAgz9UTlwD8_CD59LawTUhN2maA&usqp=CAU)\n",
    "# 4. Introducing Sentinal-1 Radar Imagery\n",
    "\n",
    "SENTINEL-1 is an imaging radar mission providing continuous all-weather, day-and-night imagery at C-band. The SENTINEL-1 constellation provides high reliability, improved revisit time, geographical coverage and rapid data dissemination to support operational applications in the priority areas of marine monitoring, land monitoring and emergency services [1].\n",
    "\n",
    "In this notebook we utilize the [COPERNICUS/S1_GRD_FLOAT](https://developers.google.com/earth-engine/datasets/catalog/COPERNICUS_S1_GRD#bands) Earth Engine image collection. "
   ]
  },
  {
   "cell_type": "markdown",
   "metadata": {},
   "source": [
    "### 4.1 Sattelite Image Collection and Preparation \n",
    "Below is a function that iterates through our geodataframe and collections images for each site location. We then have a function that will convert the image collection to a list and, clip the images to our AOI. \n",
    "\n",
    "The change detection will be more accurate if we utilize the 'VV' and the 'VH' images. We also include all of the images in the time series—this will ensure that we can reduce noise so we can be more certain that the change we are detecting is due to the landslide and not other background noise. "
   ]
  },
  {
   "cell_type": "code",
   "execution_count": null,
   "metadata": {},
   "outputs": [],
   "source": [
    "# Data search in Google Earth Engine to discover relative orbit number\n",
    "im_search = (ee.ImageCollection('COPERNICUS/S1_GRD_FLOAT')\n",
    "\n",
    "             .filterBounds(bbox.ee)\n",
    "\n",
    "             .filter(ee.Filter.listContains(\n",
    "                 'transmitterReceiverPolarisation', 'VV'))\n",
    "             .filter(ee.Filter.listContains(\n",
    "                 'transmitterReceiverPolarisation', 'VH'))\n",
    "\n",
    "             .filterDate(start_date, end_date)\n",
    "\n",
    "             .map(lambda img: img.set('date', ee.Date(img.date()).format('YYYYMMdd')))\n",
    "             .sort('date'))\n",
    "\n",
    "orbit_num = (im_search.aggregate_array('relativeOrbitNumber_start')\n",
    "             .getInfo())\n",
    "orbit_num = orbit_num[0]\n",
    "\n",
    "look_angle = (im_search.aggregate_array('orbitProperties_pass')\n",
    "              .getInfo())\n",
    "look_angle = look_angle[0]\n",
    "\n",
    "print('The Relative Orbit Number for AOI is: ', orbit_num)\n",
    "print('The orbitology is: ', look_angle)"
   ]
  },
  {
   "cell_type": "code",
   "execution_count": null,
   "metadata": {},
   "outputs": [],
   "source": [
    "im_coll = im_search.filter(ee.Filter.eq('orbitProperties_pass', look_angle))"
   ]
  },
  {
   "cell_type": "code",
   "execution_count": null,
   "metadata": {},
   "outputs": [],
   "source": [
    "# Get image dates and a list of the images in order\n",
    "s1_dates, s1_event_index = get_dates(im_coll, BASE_DATE)\n",
    "s1_list = im_coll.toList(len(s1_dates))\n",
    "\n",
    "'{} Sentinel-1 scenes selected'.format(len(s1_dates))"
   ]
  },
  {
   "cell_type": "code",
   "execution_count": null,
   "metadata": {},
   "outputs": [],
   "source": [
    "# Identify pre and post-event dates\n",
    "s1_pre = ee.Image(s1_list.get(s1_event_index-1))\n",
    "s1_post = ee.Image(s1_list.get(s1_event_index))\n",
    "\n",
    "# Pull the event-date value from image properties 'Date'\n",
    "slide_im_new = s1_post.get('date')\n",
    "\n",
    "# Assign that date to an image\n",
    "slide_im_new.getInfo()\n",
    "slide_image_full = slide_im_new.getInfo()\n",
    "slide_image_full\n",
    "\n",
    "# Create a string value for image to be used in the final map\n",
    "slide_image = 'T' + slide_image_full\n",
    "print(slide_image)"
   ]
  },
  {
   "cell_type": "code",
   "execution_count": null,
   "metadata": {},
   "outputs": [],
   "source": [
    "# Print full timestamp list\n",
    "timestamplist = (im_coll.aggregate_array('date')\n",
    "                        .map(lambda d: ee.String('T').cat(ee.String(d)))\n",
    "                        .getInfo())\n",
    "# '{} Scenes selected'.format(len(timestamplist))\n",
    "timestamplist"
   ]
  },
  {
   "cell_type": "markdown",
   "metadata": {
    "id": "oUiTi-eynGPi"
   },
   "source": [
    "### 4.2 Convert and Clip Image Collection"
   ]
  },
  {
   "cell_type": "code",
   "execution_count": null,
   "metadata": {
    "colab": {
     "base_uri": "https://localhost:8080/"
    },
    "id": "jOCbUmW-UHIK",
    "outputId": "1b33bc9d-20ce-4b6d-8a71-7ec3edc39d9a"
   },
   "outputs": [],
   "source": [
    "im_list = im_coll.toList(im_coll.size())\n",
    "\n",
    "# clip our list of images to the aoi geometry\n",
    "im_list = ee.List(im_list.map(clip_img))\n",
    "im_list.get(0)\n",
    "ee.Image(im_list.get(0)).bandNames().getInfo()\n",
    "im_list.length().getInfo()"
   ]
  },
  {
   "cell_type": "markdown",
   "metadata": {},
   "source": [
    "# 5. Multitemporal Change Detection\n",
    "In order to accurately detect land-change due to lanslides, we need to gather information across a time series (k) to determine the changes that occured and to get accurate location information for the landslides. \n",
    "\n",
    "We would like to know: when and where changes have taken place. In order to do this, we will highlight statistically significant changes through a series of \"tests for change\". We gathered in-depth statistical analyses from Earth Engine Python tutorials found [here](https://developers.google.com/earth-engine/tutorials/community/detecting-changes-in-sentinel-1-imagery-pt-1), with an emphasis on the statistical changes outlined in [Part 3](https://developers.google.com/earth-engine/tutorials/community/detecting-changes-in-sentinel-1-imagery-pt-3) by by Dr. Mort Canty (Canty, 2019). Please refer to the \"References\" section at the end of this notebook for the coppyright of their tutorial.\n",
    "\n",
    "Our final product will be one map of a compilation of four different \"change maps\". Each respective change map represents the result of testing definite change in pixels at different intervals across the SAR images associate with our AOI. The following is the list of change maps:  \n",
    "\n",
    "- cmap: the interval of the most recent change, one band, byte values ∈[0,k−1],\n",
    "- smap: the interval of the first change, one band, byte values ∈[0,k−1],\n",
    "- fmap: the number of changes, one band, byte values ∈[0,k−1],\n",
    "- bmap: the changes in each interval,  k−1 bands, byte values ∈[0,1]).\n",
    "\n",
    "**For the changes over our entire series of images, our null hypothesis is that, at a given pixel position, there has been no change in the signal strengths over the entire period.**\n",
    "\n",
    "\n",
    "**The alternative hypothesis is that there was at least one change (and possibly many) over the interval.** "
   ]
  },
  {
   "cell_type": "markdown",
   "metadata": {},
   "source": [
    "### 5.1 Create Initial Change Map (we can start to see where changes occur, just not when)"
   ]
  },
  {
   "cell_type": "code",
   "execution_count": null,
   "metadata": {},
   "outputs": [],
   "source": [
    "# Add EE drawing method to folium.\n",
    "folium.Map.add_ee_layer = add_ee_layer"
   ]
  },
  {
   "cell_type": "code",
   "execution_count": null,
   "metadata": {},
   "outputs": [],
   "source": [
    "# Create a lilelihood ratio test statistic and evaluate it for a list of single polarization images\n",
    "vv_list = im_list.map(selectvv)"
   ]
  },
  {
   "cell_type": "markdown",
   "metadata": {},
   "source": [
    "#### Create a lilelihood ratio test statistic and evaluate it for a list of single polarization images\n",
    ">Histogram comparing omnibus test with our chi square distribution."
   ]
  },
  {
   "cell_type": "code",
   "execution_count": null,
   "metadata": {},
   "outputs": [],
   "source": [
    "k = len(timestamplist)//2\n",
    "hist = (omnibus(vv_list.slice(0, k))\n",
    "        .reduceRegion(ee.Reducer.fixedHistogram(0, 40, 200), geometry=aoi, scale=10)\n",
    "        .get('constant')\n",
    "        .getInfo())\n",
    "\n",
    "a = np.array(hist)\n",
    "x = a[:, 0]\n",
    "y = a[:, 1]/np.sum(a[:, 1])\n",
    "plt.plot(x, y, '.', label='data')\n",
    "plt.plot(x, chi2.pdf(x, k-1)/5, '-r', label='chi square')\n",
    "plt.legend()\n",
    "plt.grid()\n",
    "plt.show()"
   ]
  },
  {
   "cell_type": "markdown",
   "metadata": {},
   "source": [
    "#### Initial Change Map \n",
    "- Hint: Zoom in and out to see how the changes differ at all zoom levels. Both red and cyan colors indicate change, but the cyan is more consistent with all zoom levels. \n",
    "- Hint: If the landslide is coastal, you might see large amounts of change overlapping the ocean... this is due to the constant motion of waves."
   ]
  },
  {
   "cell_type": "code",
   "execution_count": null,
   "metadata": {
    "colab": {
     "base_uri": "https://localhost:8080/",
     "height": 1000
    },
    "id": "CL4N3GednWs9",
    "outputId": "95c81f36-7c3e-45d2-cfb9-080b8d8e2985",
    "scrolled": false
   },
   "outputs": [],
   "source": [
    "# Change map for alpha = 0.01.\n",
    "k = len(timestamplist)\n",
    "alpha = 0.01\n",
    "p_value = ee.Image.constant(1).subtract(chi2cdf(omnibus(vv_list), k-1))\n",
    "c_map = p_value.multiply(0).where(p_value.lt(alpha), 1)\n",
    "\n",
    "# Make the no-change pixels transparent.\n",
    "c_map = c_map.updateMask(c_map.gt(0))\n",
    "\n",
    "# Create initial change map.\n",
    "location = aoi.centroid().coordinates().getInfo()[::-1]\n",
    "mp = folium.Map(location=location, zoom_start=15)\n",
    "mp.add_ee_layer(c_map, {'min': 0, 'max': 1, 'palette': [\n",
    "                'black', 'red']}, 'change map')\n",
    "\n",
    "# Make sure you can see changes correctly at all zoom levels\n",
    "c_map_10m = c_map.reproject(c_map.projection().crs(), scale=10)\n",
    "mp = folium.Map(location=location, zoom_start=15)\n",
    "mp.add_ee_layer(c_map, {'min': 0, 'max': 1, 'palette': [\n",
    "                'black', 'red']}, 'Change map')\n",
    "mp.add_ee_layer(c_map_10m, {'min': 0, 'max': 1, 'palette': [\n",
    "                'black', 'cyan']}, 'Change map (10m)')\n",
    "\n",
    "mp.add_child(folium.LayerControl())"
   ]
  },
  {
   "cell_type": "markdown",
   "metadata": {},
   "source": [
    "### 5.2 Create Final Change Map (where and when changes occur)"
   ]
  },
  {
   "cell_type": "markdown",
   "metadata": {},
   "source": [
    "In the cells below we will develop a product of independent likelihood ratio tests which will enable us to determine when changes occurred at each pixel location. Using the functions from the top of the notebook, we code a complete multitemporal change detection algorithm on the GEE Python API."
   ]
  },
  {
   "cell_type": "markdown",
   "metadata": {},
   "source": [
    "#### Create a sequential omnibus test"
   ]
  },
  {
   "cell_type": "code",
   "execution_count": null,
   "metadata": {
    "colab": {
     "base_uri": "https://localhost:8080/"
    },
    "id": "0GSB1pSnNee6",
    "outputId": "095b7cf8-a3cd-4b7c-8947-835686cd29b2"
   },
   "outputs": [],
   "source": [
    "# Sample the first few list indices.\n",
    "samples = ee.List.sequence(2, 5).map(sample_vv_imgs)\n",
    "\n",
    "# Calculate and display the correlation matrix.\n",
    "np.set_printoptions(precision=2, suppress=True)"
   ]
  },
  {
   "cell_type": "markdown",
   "metadata": {},
   "source": [
    "#### Perform map operations on the indices l and j. Return an array of P values."
   ]
  },
  {
   "cell_type": "markdown",
   "metadata": {
    "id": "Mx3XiJAEIpu7"
   },
   "source": [
    "\n",
    "|Table 4.2 |       |       |       |       |       |        |\n",
    "|----------|-------|-------|-------|-------|-------|--------|\n",
    "|$i\\ $ / $j$|      |     1 |     2 |     3 |     4 |        |\n",
    "| 1        |       | $P_2$ | $P_3$ | $P_4$ | $P_5$ | $P_{Q5}$  |\n",
    "| 2        |       |       | $P_2$ | $P_3$ | $P_4$ | $P_{Q4}$  |\n",
    "| 3        |       |       |       | $P_2$ | $P_3$ | $P_{Q3}$  |\n",
    "| 4        |       |       |       |       | $P_2$ | $P_{Q2}$  |\n",
    "\n",
    "The pre-calculated _P_ values in _pv\\_arr_ (shown schematically in Table 3.2 for $k=5$) are then scanned in nested iterations over indices $i$ and $j$ to determine the following thematic change maps:\n",
    "\n",
    "- cmap: the interval of the most recent change, one band, byte values $\\in [0,k-1]$,\n",
    "- smap: the interval of the first change, one band, byte values $\\in [0,k-1]$,\n",
    "- fmap: the number of changes, one band, byte values $\\in [0,k-1]$,\n",
    "- bmap: the changes in each interval, $\\ k-1$ bands, byte values $\\in [0,1]$).\n",
    "\n",
    "A boolean variable _median_ is included in the code. Its purpose is to reduce the salt-and-pepper effect in no-change regions, which is at least partly a consequence of the uniform distribution of the _P_ values under $H_0$ (see the section [A note on P values](https://developers.google.com/earth-engine/tutorials/community/detecting-changes-in-sentinel-1-imagery-pt-2#a_note_on_p_values) in Part 2). If _median_ is _True_, the _P_ values for each $Q_\\ell$ statistic are passed through a $5\\times 5$ median filter before being compared with the significance threshold. This is not statistically kosher but probably justifiable if one is only interested in large homogeneous changes, for example flood inundations or deforestation."
   ]
  },
  {
   "cell_type": "markdown",
   "metadata": {
    "id": "3Lq1VHnoI23L"
   },
   "source": [
    "#### Post-processing: The Loewner order\n",
    "\n",
    "Create bmap: the map of changes detected in each interval.\n",
    "\n",
    "The function _dmap\\_iter_ below is iterated over the bands of _bmap_, replacing the values for changed pixels with\n",
    "\n",
    "- 1 for positive definite differences,\n",
    "- 2 for negative definite differences,\n",
    "- 3 for indefinite differences."
   ]
  },
  {
   "cell_type": "markdown",
   "metadata": {
    "id": "s7h1GuQ79-jH"
   },
   "source": [
    "#### The following line of code utilizes the functions _filter\\_j_, _filter\\_j_, _dmap_iter_, _change\\_maps_, and _plot\\_change\\_maps_ functions to include the change direction in the _bmap_ image. Once modifications to the underlying image stack are complete, the arrays are exported to a single image object. A final change map is then generated using the GEE compute power."
   ]
  },
  {
   "cell_type": "code",
   "execution_count": null,
   "metadata": {
    "scrolled": false
   },
   "outputs": [],
   "source": [
    "plot_change_maps(im_list)"
   ]
  },
  {
   "cell_type": "markdown",
   "metadata": {},
   "source": [
    "# 6. Summary"
   ]
  },
  {
   "cell_type": "markdown",
   "metadata": {},
   "source": [
    "The definite (cyan) changes correspond to decreases and increases in intensity of VV and VH reflectance and are due to displaced surface on Earth. As we can tell, areas of definite change do correspond to some locations identified on our verified landslide catalog. One location in particular (slide I.D. # 9734 Big Sur) is an area that our change detection map showed a visual correlation. When displayed over the Earth Engine basemaps \"USGS NAIP Imagery NDVI\" and the 'USGS NAIP Imagery False Color', the correlation in certain landslide areas seems to be prominent. Another successful landslide I.D. that we could see a correlation with is slide I.D. # 10588. The banks around the river clearly show displaced land, and we could see that our final map showed definite changes that correlated with this displacement. Another site # 10532, while small, also showed a distinct definite pattern of change with a block of cyan color. This did correlate with our landslide database, and also did match the SATELLITE image basemap.\n",
    "\n",
    "Other areas were harder to detect, and the final image did not show clear changes. For example, slide I.D. 10221 is a prominent landslide visual on the initial AOI SATELLITE image basemap, and also a prominent visual on the initial changes map, however on the final figure, the change did not show. This is possibly an error in the slide image date match for the landslide event. There are possibly errors due to our AOI bounds parameters. We chose close to a 1km boundary for each verified location point, and it is possible that some of these locations are not an exact coordinate. The database does say how accurate the location is, and there are many landslides within a 5km or more boundary. This could be fixed in the future with a bigger aoi boundary, or finding specific locations for landslides.\n",
    "\n",
    "Other observations include:\n",
    "- areas either near urban sites, water, or cropland that might throw off our statistical output. These areas are subject to change and might create more noise in our images. We suggest including a water mask to reduce noise of waves. \n",
    "- events like flooding and mudslides might cause change in landscape over a longer period of time. This might diffuse the clarity of our final change map because the event did not technically occur rapidly.\n",
    "- it would be helpful to include Sentinel-2 Landsat images in this analysis as well. If you used a satellite image that correlates with the same timestamp as the SAR imagery, then the overlapping images might show a more consistent change. The Earth Engine SATELLITE basemap is recent and might have restored infrastructure, cleaned up river banks, and new vegetation."
   ]
  },
  {
   "cell_type": "markdown",
   "metadata": {},
   "source": [
    "# 7. Outlook "
   ]
  },
  {
   "cell_type": "markdown",
   "metadata": {},
   "source": [
    "This study shows us that it is possible that SAR imagery can be utilized to detect landslide motion. One possible application is rapid detection. In this notebook we displayed each change map with the color cyan. It is possible to display the different individual change maps with different colors. This could help determine locations wtih motion pre-landslide (smap: or interval with first change), which could help inform areas of high landslide risk."
   ]
  },
  {
   "cell_type": "markdown",
   "metadata": {},
   "source": [
    "# 8. References"
   ]
  },
  {
   "cell_type": "markdown",
   "metadata": {},
   "source": [
    "Copyright 2022 Mitchel Thompson and Leah Manak\n",
    "\n",
    "Licensed under the Apache License, Version 2.0 (the \"License\"); you may not use this file except in compliance with the License. You may obtain a copy of the License at:\n",
    "\n",
    "<http://www.apache.org/licenses/LICENSE-2.0>\n",
    "\n",
    "Unless required by applicable law or agreed to in writing, software distributed under the License is distributed on an \"AS IS\" BASIS, WITHOUT WARRANTIES OR CONDITIONS OF ANY KIND, either express or implied. See the License for the specific language governing permissions and limitations under the License.\n",
    "\n",
    "[1] < https://sentinel.esa.int/web/sentinel/user-guides/sentinel-1-sar/>"
   ]
  }
 ],
 "metadata": {
  "colab": {
   "collapsed_sections": [],
   "include_colab_link": true,
   "name": "BIG SUR Landslide Version of Detecting Changes in Sentinel-1 Imagery (Part 3)",
   "provenance": []
  },
  "interpreter": {
   "hash": "1423e7b4365b206593c4d9da781b428c62c61d48349bf4fefaba2ec8f85e2569"
  },
  "kernelspec": {
   "display_name": "Python 3 (ipykernel)",
   "language": "python",
   "name": "python3"
  },
  "language_info": {
   "codemirror_mode": {
    "name": "ipython",
    "version": 3
   },
   "file_extension": ".py",
   "mimetype": "text/x-python",
   "name": "python",
   "nbconvert_exporter": "python",
   "pygments_lexer": "ipython3",
   "version": "3.8.12"
  }
 },
 "nbformat": 4,
 "nbformat_minor": 1
}
